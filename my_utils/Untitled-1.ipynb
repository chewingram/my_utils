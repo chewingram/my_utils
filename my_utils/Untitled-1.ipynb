{
 "cells": [
  {
   "cell_type": "code",
   "execution_count": null,
   "metadata": {},
   "outputs": [
    {
     "name": "stdout",
     "output_type": "stream",
     "text": [
      "0.9799\n"
     ]
    },
    {
     "data": {
      "text/plain": [
       "0.9946463992227665"
      ]
     },
     "execution_count": 3,
     "metadata": {},
     "output_type": "execute_result"
    }
   ],
   "source": [
    "ifcs = []\n",
    "n_structs = []\n",
    "for iter in range(2, niters+1):\n",
    "    iter_dir = iters_dir.joinpath(f'iter_{iter}')\n",
    "    unitcell = read(iter_dir.joinpath('infile.ucposcar'), format='vasp')\n",
    "    supercell = read(iter_dir.joinpath('infile.ssposcar'), format='vasp')\n",
    "    ifc = tdp.parse_outfile_forceconstants(iter_dir.joinpath('converged_outfile.forceconstant'), unitcell, supercell)\n",
    "    ifcs.append(ifc)\n",
    "print(len(ifcs))\n",
    "ifcs = np.array(ifcs)\n",
    "max_diffs = [np.max(np.abs(ifcs[i] - ifcs[i-1]), axis=1) for i in range(1, len(ifcs)+1)]\n",
    "Fig = plt.figure(figsize=(15,4))\n",
    "plt.plot(nconfs[iter-1], max_diffs, '.')\n",
    "plt.title('IFC convergence: max abs. error')\n",
    "plt.ylabel('Error on the IFCs (eV/$\\mathrm{\\AA}^2$)')\n",
    "plt.xlabel('Number of structures')\n",
    "figpath = dir.joinpath(f'Convergence.png')\n",
    "#plt.savefig(fname=figpath, bbox_inches='tight', dpi=600, format='png')\n"
   ]
  },
  {
   "cell_type": "code",
   "execution_count": 98,
   "metadata": {},
   "outputs": [],
   "source": [
    "\n",
    "from pathlib import Path\n",
    "from ase.io import read\n",
    "\n",
    "def parse_outfile_forceconstants(filepath, unitcell, supercell):\n",
    "    \n",
    "    def find_index_in_unitcell(red_position, unitcell):\n",
    "        scaled_positions = unitcell.get_scaled_positions()\n",
    "        return np.argmin(np.linalg.norm(scaled_positions - red_position, axis=1))\n",
    "\n",
    "    mat = supercell.get_cell() @ np.linalg.inv(unitcell.get_cell())\n",
    "    filepath = Path(filepath)\n",
    "    \n",
    "    with open(filepath, 'r') as fl:\n",
    "        lines = fl.readlines()\n",
    "    lines = [x.split() for x in lines]\n",
    "    nats_s = len(supercell)\n",
    "    nats_u = len(unitcell)\n",
    "\n",
    "    cell = unitcell.get_cell()\n",
    "    positions = supercell.get_positions() # nats, 3\n",
    "    positions_red = (np.linalg.inv(cell.T) @ positions.T).T\n",
    "    atoms_tuples = []\n",
    "    for i, atom in enumerate(supercell):\n",
    "        frac_part = positions_red[i] % 1 # works for both positive and negative reduced coords!!! e.g. -1.3 % 1 = 0.7, not -0.3\n",
    "        ind = find_index_in_unitcell(frac_part, unitcell)\n",
    "        repetition_indices = [np.floor(positions_red[i][0]).astype(int), np.floor(positions_red[i][1]).astype(int),np.floor(positions_red[i][2]).astype(int)] # again, works for positive and negative numbers, np.floor(-1.3) = -2, not -1!!\n",
    "        atoms_tuples.append((ind, *repetition_indices))\n",
    "    # now atoms_tuples is a list of tuples (ind, R1, R2, R3), where ind the index of the atom in the unitcell and R1/2/3 are the component of the position of the repetition in reduced coordinates\n",
    "\n",
    "    ifc = np.zeros((nats_u, nats_s, 3, 3))\n",
    "    k = 2\n",
    "    for i in range(nats_u):\n",
    "        nns = int(lines[k][0]) # number of neighbours\n",
    "        for n in range(nns):\n",
    "            ci = k+1+5*n\n",
    "            neigh_unit_ind = int(lines[ci][0])-1 # index of the neighbour in the unitcell\n",
    "            vec_u = np.array([float(lines[ci+1][0]), float(lines[ci+1][1]), float(lines[ci+1][2])])\n",
    "            \n",
    "            # we need to change the basis of vec from the unitcell vectors to the supercell vectors\n",
    "            # x^u = L x^s where L is P.T, where P is the mat_mult used to create the supercell from the unitcell\n",
    "            # in principle we can compute x^s = L^-1 @ x^u, but np.solve is faster\n",
    "            vec_s = np.linalg.solve(mat.T, vec_u)\n",
    "            vec_s[np.abs(vec_s) < 1E-10] = 0\n",
    "            vec_wrapped_s = vec_s % 1\n",
    "            vec_wrapped_u = mat @ vec_wrapped_s\n",
    "            vec_wrapped_u[np.abs(vec_wrapped_u) < 1E-10] = 0\n",
    "\n",
    "\n",
    "            current_tuple = (neigh_unit_ind, vec_wrapped_u[0], vec_wrapped_u[1], vec_wrapped_u[2])\n",
    "            j = atoms_tuples.index(current_tuple) # find the matching tuple, j is the index of the neighbour in the supercell\n",
    "            tens = []\n",
    "            tens.append([float(lines[ci+2][0]), float(lines[ci+2][1]), float(lines[ci+2][2])])\n",
    "            tens.append([float(lines[ci+3][0]), float(lines[ci+3][1]), float(lines[ci+3][2])])\n",
    "            tens.append([float(lines[ci+4][0]), float(lines[ci+4][1]), float(lines[ci+4][2])])\n",
    "            tens = np.array(tens, dtype='float')\n",
    "            ifc[i,j] += tens\n",
    "        k += 1+5*nns\n",
    "\n",
    "    return ifc\n",
    "\n",
    "dir = Path('/Users/samuel/Work/developing/stdep_script/iterations/iter_4/ifc/')\n",
    "\n",
    "fp = dir.joinpath('rc2_0/outfile.forceconstant')\n",
    "unitcell = read(dir.joinpath('infiles/infile.ucposcar'), format='vasp')\n",
    "supercell = read(dir.joinpath('infiles/infile.ssposcar'), format='vasp')\n",
    "ifcs = parse_outfile_forceconstants(fp, unitcell, supercell)\n"
   ]
  },
  {
   "cell_type": "code",
   "execution_count": 84,
   "metadata": {},
   "outputs": [
    {
     "data": {
      "text/plain": [
       "array([0.        , 0.66666667, 0.        ])"
      ]
     },
     "execution_count": 84,
     "metadata": {},
     "output_type": "execute_result"
    }
   ],
   "source": [
    "np.array([-2.71002036e-18, -3.33333333e-01,  0.00000000e+00]) %1"
   ]
  },
  {
   "cell_type": "code",
   "execution_count": 71,
   "metadata": {},
   "outputs": [
    {
     "data": {
      "text/plain": [
       "0.5"
      ]
     },
     "execution_count": 71,
     "metadata": {},
     "output_type": "execute_result"
    }
   ],
   "source": [
    "-1/2%1"
   ]
  },
  {
   "cell_type": "code",
   "execution_count": 25,
   "metadata": {},
   "outputs": [
    {
     "name": "stdout",
     "output_type": "stream",
     "text": [
      "[]\n"
     ]
    },
    {
     "name": "stderr",
     "output_type": "stream",
     "text": [
      "/var/folders/5t/cd9kht1x18l5ndqjk7tf68sr0000gn/T/ipykernel_59717/1372745914.py:12: DeprecationWarning: Calling nonzero on 0d arrays is deprecated, as it behaves surprisingly. Use `atleast_1d(cond).nonzero()` if the old behavior was intended. If the context of this warning is of the form `arr[nonzero(cond)]`, just use `arr[cond]`.\n",
      "  centers = ats[np.where(nums == 42)]\n",
      "/var/folders/5t/cd9kht1x18l5ndqjk7tf68sr0000gn/T/ipykernel_59717/1372745914.py:16: DeprecationWarning: Calling nonzero on 0d arrays is deprecated, as it behaves surprisingly. Use `atleast_1d(cond).nonzero()` if the old behavior was intended. If the context of this warning is of the form `arr[nonzero(cond)]`, just use `arr[cond]`.\n",
      "  inds = np.where(np.linalg.norm(positions - [positions[i]]) < cutoff)\n",
      "/var/folders/5t/cd9kht1x18l5ndqjk7tf68sr0000gn/T/ipykernel_59717/1372745914.py:19: DeprecationWarning: The truth value of an empty array is ambiguous. Returning False, but in future this will result in an error. Use `array.size > 0` to check that an array is not empty.\n",
      "  if nb1 != nb2:\n"
     ]
    }
   ],
   "source": [
    "from ase.io import read\n",
    "from ase.data import atomic_numbers as ase_atnums\n",
    "from ase.data import chemical_symbols as ase_chemsym\n",
    "import numpy as np\n",
    "\n",
    "ats = read('/Users/samuel/Work/ML/MoSx/MD/melting/MD_88/w_mlmd.traj', index=':')[0]\n",
    "\n",
    "syms = ats.get_chemical_symbols()\n",
    "nums = [ase_atnums[x] for x in syms]\n",
    "cutoff = 3.5\n",
    "positions = ats.get_positions()\n",
    "centers = ats[np.where(nums == 42)]\n",
    "print(centers[0].position)\n",
    "angles = []\n",
    "for i, at in enumerate(centers):\n",
    "    inds = np.where(np.linalg.norm(positions - [positions[i]]) < cutoff)\n",
    "    for nb1 in inds:\n",
    "        for nb2 in inds:\n",
    "            if nb1 != nb2:\n",
    "                if nums[nb1] == 32 and nums[nb2] == 32:\n",
    "                    angles.append(np.arccos(positions[nb2] - positions[i], positions[nb1] - positions[i]))\n",
    "        \n",
    "\n",
    "\n",
    "\n"
   ]
  },
  {
   "cell_type": "code",
   "execution_count": 2,
   "metadata": {},
   "outputs": [
    {
     "ename": "TypeError",
     "evalue": "a() missing 1 required positional argument: 'c'",
     "output_type": "error",
     "traceback": [
      "\u001b[0;31m---------------------------------------------------------------------------\u001b[0m",
      "\u001b[0;31mTypeError\u001b[0m                                 Traceback (most recent call last)",
      "Cell \u001b[0;32mIn[2], line 3\u001b[0m\n\u001b[1;32m      1\u001b[0m \u001b[38;5;28;01mdef\u001b[39;00m\u001b[38;5;250m \u001b[39m\u001b[38;5;21ma\u001b[39m(c):\n\u001b[1;32m      2\u001b[0m     \u001b[38;5;28mprint\u001b[39m(c)\n\u001b[0;32m----> 3\u001b[0m \u001b[43ma\u001b[49m\u001b[43m(\u001b[49m\u001b[43m)\u001b[49m\n",
      "\u001b[0;31mTypeError\u001b[0m: a() missing 1 required positional argument: 'c'"
     ]
    }
   ],
   "source": [
    "def a(c):\n",
    "    print(c)\n",
    "a()\n"
   ]
  }
 ],
 "metadata": {
  "kernelspec": {
   "display_name": "env_3.9.13",
   "language": "python",
   "name": "python3"
  },
  "language_info": {
   "codemirror_mode": {
    "name": "ipython",
    "version": 3
   },
   "file_extension": ".py",
   "mimetype": "text/x-python",
   "name": "python",
   "nbconvert_exporter": "python",
   "pygments_lexer": "ipython3",
   "version": "3.9.13"
  }
 },
 "nbformat": 4,
 "nbformat_minor": 2
}
